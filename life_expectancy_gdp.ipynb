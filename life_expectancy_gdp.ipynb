{
 "cells": [
  {
   "cell_type": "code",
   "execution_count": 2,
   "metadata": {},
   "outputs": [],
   "source": [
    "import pandas as pd\n",
    "import seaborn as sns\n",
    "import matplotlib.pyplot as plt\n",
    "import numpy as np"
   ]
  },
  {
   "cell_type": "code",
   "execution_count": 23,
   "metadata": {},
   "outputs": [],
   "source": [
    "df = pd.read_csv(\"all_data.csv\")"
   ]
  },
  {
   "cell_type": "code",
   "execution_count": 24,
   "metadata": {},
   "outputs": [
    {
     "data": {
      "text/html": [
       "<div>\n",
       "<style scoped>\n",
       "    .dataframe tbody tr th:only-of-type {\n",
       "        vertical-align: middle;\n",
       "    }\n",
       "\n",
       "    .dataframe tbody tr th {\n",
       "        vertical-align: top;\n",
       "    }\n",
       "\n",
       "    .dataframe thead th {\n",
       "        text-align: right;\n",
       "    }\n",
       "</style>\n",
       "<table border=\"1\" class=\"dataframe\">\n",
       "  <thead>\n",
       "    <tr style=\"text-align: right;\">\n",
       "      <th></th>\n",
       "      <th>Year</th>\n",
       "      <th>Life expectancy at birth (years)</th>\n",
       "      <th>GDP</th>\n",
       "    </tr>\n",
       "  </thead>\n",
       "  <tbody>\n",
       "    <tr>\n",
       "      <th>count</th>\n",
       "      <td>96.000000</td>\n",
       "      <td>96.000000</td>\n",
       "      <td>9.600000e+01</td>\n",
       "    </tr>\n",
       "    <tr>\n",
       "      <th>mean</th>\n",
       "      <td>2007.500000</td>\n",
       "      <td>72.789583</td>\n",
       "      <td>3.880499e+12</td>\n",
       "    </tr>\n",
       "    <tr>\n",
       "      <th>std</th>\n",
       "      <td>4.633971</td>\n",
       "      <td>10.672882</td>\n",
       "      <td>5.197561e+12</td>\n",
       "    </tr>\n",
       "    <tr>\n",
       "      <th>min</th>\n",
       "      <td>2000.000000</td>\n",
       "      <td>44.300000</td>\n",
       "      <td>4.415703e+09</td>\n",
       "    </tr>\n",
       "    <tr>\n",
       "      <th>25%</th>\n",
       "      <td>2003.750000</td>\n",
       "      <td>74.475000</td>\n",
       "      <td>1.733018e+11</td>\n",
       "    </tr>\n",
       "    <tr>\n",
       "      <th>50%</th>\n",
       "      <td>2007.500000</td>\n",
       "      <td>76.750000</td>\n",
       "      <td>1.280220e+12</td>\n",
       "    </tr>\n",
       "    <tr>\n",
       "      <th>75%</th>\n",
       "      <td>2011.250000</td>\n",
       "      <td>78.900000</td>\n",
       "      <td>4.067510e+12</td>\n",
       "    </tr>\n",
       "    <tr>\n",
       "      <th>max</th>\n",
       "      <td>2015.000000</td>\n",
       "      <td>81.000000</td>\n",
       "      <td>1.810000e+13</td>\n",
       "    </tr>\n",
       "  </tbody>\n",
       "</table>\n",
       "</div>"
      ],
      "text/plain": [
       "              Year  Life expectancy at birth (years)           GDP\n",
       "count    96.000000                         96.000000  9.600000e+01\n",
       "mean   2007.500000                         72.789583  3.880499e+12\n",
       "std       4.633971                         10.672882  5.197561e+12\n",
       "min    2000.000000                         44.300000  4.415703e+09\n",
       "25%    2003.750000                         74.475000  1.733018e+11\n",
       "50%    2007.500000                         76.750000  1.280220e+12\n",
       "75%    2011.250000                         78.900000  4.067510e+12\n",
       "max    2015.000000                         81.000000  1.810000e+13"
      ]
     },
     "execution_count": 24,
     "metadata": {},
     "output_type": "execute_result"
    }
   ],
   "source": [
    "df.describe()"
   ]
  },
  {
   "cell_type": "code",
   "execution_count": 25,
   "metadata": {
    "scrolled": true
   },
   "outputs": [
    {
     "data": {
      "text/plain": [
       "Index(['Country', 'Year', 'Life expectancy at birth (years)', 'GDP'], dtype='object')"
      ]
     },
     "execution_count": 25,
     "metadata": {},
     "output_type": "execute_result"
    }
   ],
   "source": [
    "df.columns"
   ]
  },
  {
   "cell_type": "code",
   "execution_count": 26,
   "metadata": {},
   "outputs": [],
   "source": [
    "new_column_name = [str(x).lower() for x in df.columns]\n",
    "df.columns = new_column_name"
   ]
  },
  {
   "cell_type": "code",
   "execution_count": 29,
   "metadata": {},
   "outputs": [],
   "source": [
    "df.rename(columns={\"life expectancy at birth (years)\": \"life_expectancy\"}, inplace = True)"
   ]
  },
  {
   "cell_type": "code",
   "execution_count": 30,
   "metadata": {},
   "outputs": [],
   "source": [
    "df.country = df.country.replace(\"United States of America\", \"USA\")"
   ]
  },
  {
   "cell_type": "code",
   "execution_count": 31,
   "metadata": {},
   "outputs": [
    {
     "data": {
      "text/plain": [
       "array(['Chile', 'China', 'Germany', 'Mexico', 'USA', 'Zimbabwe'],\n",
       "      dtype=object)"
      ]
     },
     "execution_count": 31,
     "metadata": {},
     "output_type": "execute_result"
    }
   ],
   "source": [
    "df.country.unique()"
   ]
  },
  {
   "cell_type": "code",
   "execution_count": 32,
   "metadata": {
    "scrolled": true
   },
   "outputs": [],
   "source": [
    "chile=df[df.country=='Chile'].reset_index(drop=True)\n",
    "china=df[df.country=='China'].reset_index(drop=True)\n",
    "germany=df[df.country=='Germany'].reset_index(drop=True)\n",
    "mexico=df[df.country=='Mexico'].reset_index(drop=True)\n",
    "usa=df[df.country=='USA'].reset_index(drop=True)\n",
    "zimbabwe=df[df.country=='Zimbabwe'].reset_index(drop=True)"
   ]
  },
  {
   "cell_type": "code",
   "execution_count": 33,
   "metadata": {
    "scrolled": true
   },
   "outputs": [
    {
     "data": {
      "image/png": "[encoded data removed]",
      "text/plain": [
       "<Figure size 432x288 with 6 Axes>"
      ]
     },
     "metadata": {
      "needs_background": "light"
     },
     "output_type": "display_data"
    }
   ],
   "source": [
    "plt.subplot(3,2,1)\n",
    "plt.bar(chile.year, chile.life_expectancy)\n",
    "plt.ylim(50, 85);\n",
    "plt.subplot(3,2,2)\n",
    "plt.bar(china.year, china.life_expectancy)\n",
    "plt.ylim(50, 85);\n",
    "plt.subplot(3,2,3)\n",
    "plt.bar(germany.year, germany.life_expectancy)\n",
    "plt.ylim(50, 85);\n",
    "plt.subplot(3,2,4)\n",
    "plt.bar(mexico.year, mexico.life_expectancy)\n",
    "plt.ylim(50, 85);\n",
    "plt.subplot(3,2,5)\n",
    "plt.bar(usa.year, usa.life_expectancy)\n",
    "plt.ylim(50, 85);\n",
    "plt.subplot(3,2,6)\n",
    "plt.bar(zimbabwe.year, zimbabwe.life_expectancy)\n",
    "plt.ylim(50, 85);\n"
   ]
  },
  {
   "cell_type": "code",
   "execution_count": 45,
   "metadata": {
    "scrolled": true
   },
   "outputs": [
    {
     "data": {
      "image/png": "[encoded data removed]",
      "text/plain": [
       "<Figure size 432x288 with 1 Axes>"
      ]
     },
     "metadata": {
      "needs_background": "light"
     },
     "output_type": "display_data"
    }
   ],
   "source": [
    "ax=plt.subplot()\n",
    "plt.plot(chile.year, chile.life_expectancy, label='Chile')\n",
    "plt.plot(china.year, china.life_expectancy, label='China')\n",
    "plt.plot(germany.year, germany.life_expectancy, label='Germany')\n",
    "plt.plot(mexico.year, mexico.life_expectancy, label='Mexico')\n",
    "plt.plot(usa.year, usa.life_expectancy, label='USA')\n",
    "plt.plot(zimbabwe.year, zimbabwe.life_expectancy, label='Zimbabwe')\n",
    "ax.set_xticks(chile.year)\n",
    "ax.set_xticklabels(chile.year, rotation=60)\n",
    "plt.xlabel('Year')\n",
    "plt.ylabel('Life Expectancy in years')\n",
    "plt.title('Life Expectancy by country through the years')\n",
    "plt.legend()\n",
    "plt.show()"
   ]
  },
  {
   "cell_type": "code",
   "execution_count": 57,
   "metadata": {},
   "outputs": [
    {
     "name": "stdout",
     "output_type": "stream",
     "text": [
      "78.94374999999998\n",
      "74.26249999999999\n",
      "79.65625\n",
      "75.71875\n",
      "78.0625\n",
      "50.09375000000001\n"
     ]
    }
   ],
   "source": [
    "chile_avg_life_exp = chile[\"life_expectancy\"].mean()\n",
    "print(chile_avg_life_exp)\n",
    "china_avg_life_exp = china[\"life_expectancy\"].mean()\n",
    "print(china_avg_life_exp)\n",
    "germany_avg_life_exp = germany[\"life_expectancy\"].mean()\n",
    "print(germany_avg_life_exp)\n",
    "mexico_avg_life_exp = mexico[\"life_expectancy\"].mean()\n",
    "print(mexico_avg_life_exp)\n",
    "usa_avg_life_exp = usa[\"life_expectancy\"].mean()\n",
    "print(usa_avg_life_exp)\n",
    "zimbabwe_avg_life_exp = zimbabwe[\"life_expectancy\"].mean()\n",
    "print(zimbabwe_avg_life_exp)"
   ]
  },
  {
   "cell_type": "code",
   "execution_count": 58,
   "metadata": {},
   "outputs": [
    {
     "name": "stdout",
     "output_type": "stream",
     "text": [
      "The average life expectancy in Chile is 78.94374999999998\n",
      "The average life expectancy in China is 74.26249999999999\n",
      "The average life expectancy in Germany is 79.65625\n",
      "The average life expectancy in Mexico is 75.71875\n",
      "The average life expectancy in USA is 78.0625\n",
      "The average life expectancy in Zimbabwe is 50.09375000000001\n"
     ]
    }
   ],
   "source": [
    "for x,y in zip(states,avg_values):\n",
    "        print(\"The average life expectancy in {x} is {y}\".format(x=x,y=y))"
   ]
  },
  {
   "cell_type": "code",
   "execution_count": 59,
   "metadata": {},
   "outputs": [
    {
     "data": {
      "image/png": "[encoded data removed]",
      "text/plain": [
       "<Figure size 576x720 with 1 Axes>"
      ]
     },
     "metadata": {
      "needs_background": "light"
     },
     "output_type": "display_data"
    }
   ],
   "source": [
    "plt.figure(figsize=(8,10))\n",
    "sns.barplot(x=avg_values, y=states)\n",
    "plt.title(\"Life expectancy in years in particular countries\");"
   ]
  },
  {
   "cell_type": "code",
   "execution_count": 62,
   "metadata": {},
   "outputs": [
    {
     "data": {
      "text/html": [
       "<div>\n",
       "<style scoped>\n",
       "    .dataframe tbody tr th:only-of-type {\n",
       "        vertical-align: middle;\n",
       "    }\n",
       "\n",
       "    .dataframe tbody tr th {\n",
       "        vertical-align: top;\n",
       "    }\n",
       "\n",
       "    .dataframe thead th {\n",
       "        text-align: right;\n",
       "    }\n",
       "</style>\n",
       "<table border=\"1\" class=\"dataframe\">\n",
       "  <thead>\n",
       "    <tr style=\"text-align: right;\">\n",
       "      <th></th>\n",
       "      <th>country</th>\n",
       "      <th>year</th>\n",
       "      <th>life_expectancy</th>\n",
       "      <th>gdp</th>\n",
       "    </tr>\n",
       "  </thead>\n",
       "  <tbody>\n",
       "    <tr>\n",
       "      <th>0</th>\n",
       "      <td>Chile</td>\n",
       "      <td>2000</td>\n",
       "      <td>77.3</td>\n",
       "      <td>7.786093e+10</td>\n",
       "    </tr>\n",
       "    <tr>\n",
       "      <th>1</th>\n",
       "      <td>Chile</td>\n",
       "      <td>2001</td>\n",
       "      <td>77.3</td>\n",
       "      <td>7.097992e+10</td>\n",
       "    </tr>\n",
       "    <tr>\n",
       "      <th>2</th>\n",
       "      <td>Chile</td>\n",
       "      <td>2002</td>\n",
       "      <td>77.8</td>\n",
       "      <td>6.973681e+10</td>\n",
       "    </tr>\n",
       "    <tr>\n",
       "      <th>3</th>\n",
       "      <td>Chile</td>\n",
       "      <td>2003</td>\n",
       "      <td>77.9</td>\n",
       "      <td>7.564346e+10</td>\n",
       "    </tr>\n",
       "    <tr>\n",
       "      <th>4</th>\n",
       "      <td>Chile</td>\n",
       "      <td>2004</td>\n",
       "      <td>78.0</td>\n",
       "      <td>9.921039e+10</td>\n",
       "    </tr>\n",
       "    <tr>\n",
       "      <th>...</th>\n",
       "      <td>...</td>\n",
       "      <td>...</td>\n",
       "      <td>...</td>\n",
       "      <td>...</td>\n",
       "    </tr>\n",
       "    <tr>\n",
       "      <th>91</th>\n",
       "      <td>Zimbabwe</td>\n",
       "      <td>2011</td>\n",
       "      <td>54.9</td>\n",
       "      <td>1.209845e+10</td>\n",
       "    </tr>\n",
       "    <tr>\n",
       "      <th>92</th>\n",
       "      <td>Zimbabwe</td>\n",
       "      <td>2012</td>\n",
       "      <td>56.6</td>\n",
       "      <td>1.424249e+10</td>\n",
       "    </tr>\n",
       "    <tr>\n",
       "      <th>93</th>\n",
       "      <td>Zimbabwe</td>\n",
       "      <td>2013</td>\n",
       "      <td>58.0</td>\n",
       "      <td>1.545177e+10</td>\n",
       "    </tr>\n",
       "    <tr>\n",
       "      <th>94</th>\n",
       "      <td>Zimbabwe</td>\n",
       "      <td>2014</td>\n",
       "      <td>59.2</td>\n",
       "      <td>1.589105e+10</td>\n",
       "    </tr>\n",
       "    <tr>\n",
       "      <th>95</th>\n",
       "      <td>Zimbabwe</td>\n",
       "      <td>2015</td>\n",
       "      <td>60.7</td>\n",
       "      <td>1.630467e+10</td>\n",
       "    </tr>\n",
       "  </tbody>\n",
       "</table>\n",
       "<p>96 rows × 4 columns</p>\n",
       "</div>"
      ],
      "text/plain": [
       "     country  year  life_expectancy           gdp\n",
       "0      Chile  2000             77.3  7.786093e+10\n",
       "1      Chile  2001             77.3  7.097992e+10\n",
       "2      Chile  2002             77.8  6.973681e+10\n",
       "3      Chile  2003             77.9  7.564346e+10\n",
       "4      Chile  2004             78.0  9.921039e+10\n",
       "..       ...   ...              ...           ...\n",
       "91  Zimbabwe  2011             54.9  1.209845e+10\n",
       "92  Zimbabwe  2012             56.6  1.424249e+10\n",
       "93  Zimbabwe  2013             58.0  1.545177e+10\n",
       "94  Zimbabwe  2014             59.2  1.589105e+10\n",
       "95  Zimbabwe  2015             60.7  1.630467e+10\n",
       "\n",
       "[96 rows x 4 columns]"
      ]
     },
     "execution_count": 62,
     "metadata": {},
     "output_type": "execute_result"
    }
   ],
   "source": [
    "df"
   ]
  },
  {
   "cell_type": "code",
   "execution_count": 84,
   "metadata": {},
   "outputs": [],
   "source": [
    "avg_df = df.drop(\"year\", axis=1).groupby(\"country\").mean().reset_index()"
   ]
  },
  {
   "cell_type": "code",
   "execution_count": 86,
   "metadata": {
    "scrolled": true
   },
   "outputs": [
    {
     "data": {
      "text/html": [
       "<div>\n",
       "<style scoped>\n",
       "    .dataframe tbody tr th:only-of-type {\n",
       "        vertical-align: middle;\n",
       "    }\n",
       "\n",
       "    .dataframe tbody tr th {\n",
       "        vertical-align: top;\n",
       "    }\n",
       "\n",
       "    .dataframe thead th {\n",
       "        text-align: right;\n",
       "    }\n",
       "</style>\n",
       "<table border=\"1\" class=\"dataframe\">\n",
       "  <thead>\n",
       "    <tr style=\"text-align: right;\">\n",
       "      <th></th>\n",
       "      <th>country</th>\n",
       "      <th>life_expectancy</th>\n",
       "      <th>gdp</th>\n",
       "    </tr>\n",
       "  </thead>\n",
       "  <tbody>\n",
       "    <tr>\n",
       "      <th>0</th>\n",
       "      <td>Chile</td>\n",
       "      <td>78.94375</td>\n",
       "      <td>1.697888e+11</td>\n",
       "    </tr>\n",
       "    <tr>\n",
       "      <th>1</th>\n",
       "      <td>China</td>\n",
       "      <td>74.26250</td>\n",
       "      <td>4.957714e+12</td>\n",
       "    </tr>\n",
       "    <tr>\n",
       "      <th>2</th>\n",
       "      <td>Germany</td>\n",
       "      <td>79.65625</td>\n",
       "      <td>3.094776e+12</td>\n",
       "    </tr>\n",
       "    <tr>\n",
       "      <th>3</th>\n",
       "      <td>Mexico</td>\n",
       "      <td>75.71875</td>\n",
       "      <td>9.766506e+11</td>\n",
       "    </tr>\n",
       "    <tr>\n",
       "      <th>4</th>\n",
       "      <td>USA</td>\n",
       "      <td>78.06250</td>\n",
       "      <td>1.407500e+13</td>\n",
       "    </tr>\n",
       "    <tr>\n",
       "      <th>5</th>\n",
       "      <td>Zimbabwe</td>\n",
       "      <td>50.09375</td>\n",
       "      <td>9.062580e+09</td>\n",
       "    </tr>\n",
       "  </tbody>\n",
       "</table>\n",
       "</div>"
      ],
      "text/plain": [
       "    country  life_expectancy           gdp\n",
       "0     Chile         78.94375  1.697888e+11\n",
       "1     China         74.26250  4.957714e+12\n",
       "2   Germany         79.65625  3.094776e+12\n",
       "3    Mexico         75.71875  9.766506e+11\n",
       "4       USA         78.06250  1.407500e+13\n",
       "5  Zimbabwe         50.09375  9.062580e+09"
      ]
     },
     "execution_count": 86,
     "metadata": {},
     "output_type": "execute_result"
    }
   ],
   "source": [
    "avg_df"
   ]
  },
  {
   "cell_type": "code",
   "execution_count": 96,
   "metadata": {
    "scrolled": true
   },
   "outputs": [
    {
     "data": {
      "image/png": "[encoded data removed]",
      "text/plain": [
       "<Figure size 576x720 with 1 Axes>"
      ]
     },
     "metadata": {
      "needs_background": "light"
     },
     "output_type": "display_data"
    }
   ],
   "source": [
    "plt.figure(figsize=(8, 10))\n",
    "sns.barplot(x=avg_df.gdp,y=avg_df.country)\n",
    "plt.show()"
   ]
  },
  {
   "cell_type": "code",
   "execution_count": 114,
   "metadata": {},
   "outputs": [
    {
     "data": {
      "image/png": "[encoded data removed]",
      "text/plain": [
       "<Figure size 432x288 with 1 Axes>"
      ]
     },
     "metadata": {
      "needs_background": "light"
     },
     "output_type": "display_data"
    }
   ],
   "source": [
    "for country in df[\"country\"].unique():\n",
    "    country_df = df[df[\"country\"] == country]\n",
    "    plt.plot(country_df[\"year\"], country_df[\"gdp\"], label=country);\n",
    "    \n",
    "plt.legend(loc=\"upper left\")\n",
    "plt.xlabel(\"Year\")\n",
    "plt.ylabel(\"GDP\");"
   ]
  },
  {
   "cell_type": "code",
   "execution_count": 35,
   "metadata": {},
   "outputs": [
    {
     "data": {
      "image/png": "[encoded data removed]",
      "text/plain": [
       "<Figure size 432x288 with 1 Axes>"
      ]
     },
     "metadata": {
      "needs_background": "light"
     },
     "output_type": "display_data"
    }
   ],
   "source": [
    "plt.scatter(chile.life_expectancy, chile.gdp, label='Chile')\n",
    "plt.scatter(china.life_expectancy, china.gdp, label='China')\n",
    "plt.scatter(germany.life_expectancy, germany.gdp, label='Germany')\n",
    "plt.scatter(mexico.life_expectancy, mexico.gdp, label='Mexico')\n",
    "plt.scatter(usa.life_expectancy, usa.gdp, label='USA')\n",
    "plt.scatter(zimbabwe.life_expectancy, zimbabwe.gdp, label='Zimbabwe')\n",
    "plt.xlabel('Life Expectancy')\n",
    "plt.ylabel('GDP')\n",
    "plt.legend()\n",
    "plt.show()"
   ]
  },
  {
   "cell_type": "code",
   "execution_count": 36,
   "metadata": {},
   "outputs": [],
   "source": [
    "chile_cor = np.corrcoef(chile.gdp, chile.life_expectancy)\n",
    "china_cor = np.corrcoef(china.gdp, china.life_expectancy)\n",
    "germany_cor = np.corrcoef(germany.gdp, germany.life_expectancy)\n",
    "mexico_cor = np.corrcoef(mexico.gdp, mexico.life_expectancy)\n",
    "usa_cor = np.corrcoef(usa.gdp, usa.life_expectancy)\n",
    "zimbabwe_cor = np.corrcoef(zimbabwe.gdp, zimbabwe.life_expectancy)"
   ]
  },
  {
   "cell_type": "code",
   "execution_count": 37,
   "metadata": {
    "scrolled": true
   },
   "outputs": [
    {
     "name": "stdout",
     "output_type": "stream",
     "text": [
      "[[1.         0.94987667]\n",
      " [0.94987667 1.        ]]\n",
      "[[1.         0.90852554]\n",
      " [0.90852554 1.        ]]\n",
      "[[1.        0.9326989]\n",
      " [0.9326989 1.       ]]\n",
      "[[1.         0.93223772]\n",
      " [0.93223772 1.        ]]\n",
      "[[1.         0.98170924]\n",
      " [0.98170924 1.        ]]\n",
      "[[1.        0.9661999]\n",
      " [0.9661999 1.       ]]\n"
     ]
    }
   ],
   "source": [
    "print(chile_cor)\n",
    "print(china_cor)\n",
    "print(germany_cor)\n",
    "print(mexico_cor)\n",
    "print(usa_cor)\n",
    "print(zimbabwe_cor)"
   ]
  },
  {
   "cell_type": "code",
   "execution_count": 43,
   "metadata": {
    "scrolled": true
   },
   "outputs": [
    {
     "data": {
      "image/png": "[encoded data removed]",
      "text/plain": [
       "<Figure size 432x288 with 1 Axes>"
      ]
     },
     "metadata": {
      "needs_background": "light"
     },
     "output_type": "display_data"
    }
   ],
   "source": [
    "sns.boxplot(data=df, y=\"life_expectancy\", x=\"country\");"
   ]
  },
  {
   "cell_type": "code",
   "execution_count": 44,
   "metadata": {
    "scrolled": true
   },
   "outputs": [
    {
     "data": {
      "image/png": "[encoded data removed]",
      "text/plain": [
       "<Figure size 432x288 with 1 Axes>"
      ]
     },
     "metadata": {
      "needs_background": "light"
     },
     "output_type": "display_data"
    }
   ],
   "source": [
    "sns.histplot(df.life_expectancy, bins=10)\n",
    "plt.title(\"Distribution of life expectancy\");"
   ]
  },
  {
   "cell_type": "markdown",
   "metadata": {},
   "source": [
    "# Conclusion"
   ]
  },
  {
   "cell_type": "markdown",
   "metadata": {},
   "source": [
    "This project vizualization was created based on dataframe of life expectancy and GDP information cosidering 6 countries through years.\n",
    "\n",
    "- The life expectancy slightly increased through years. The biggest increase was in Zimbabwe.\n",
    "\n",
    "- The GDP has increased in each country, especially in USA.\n",
    "\n",
    "- There is a strong correlation between life expectancy and GDP.\n",
    "\n",
    "- The life expectancy is mostly between 75 - 80 but in Zimbabwe 50 years.\n",
    "\n",
    "- The life expectancy is not equaly distributed. We can se most of the observation on the right side. There is a small skew on the left side. \n",
    "\n",
    "\n"
   ]
  }
 ],
 "metadata": {
  "kernelspec": {
   "display_name": "Python 3 (ipykernel)",
   "language": "python",
   "name": "python3"
  },
  "language_info": {
   "codemirror_mode": {
    "name": "ipython",
    "version": 3
   },
   "file_extension": ".py",
   "mimetype": "text/x-python",
   "name": "python",
   "nbconvert_exporter": "python",
   "pygments_lexer": "ipython3",
   "version": "3.9.12"
  }
 },
 "nbformat": 4,
 "nbformat_minor": 4
}
